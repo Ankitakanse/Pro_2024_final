{
  "cells": [
    {
      "cell_type": "code",
      "execution_count": 6,
      "metadata": {
        "id": "tN0wsjbYv3AI"
      },
      "outputs": [],
      "source": [
        "!pip install -q -U google-generativeai"
      ]
    },
    {
      "cell_type": "code",
      "execution_count": 9,
      "metadata": {
        "id": "R-lu55H7wTsY"
      },
      "outputs": [],
      "source": [
        "from google.colab import userdata\n",
        "import google.generativeai as genai"
      ]
    },
    {
      "cell_type": "code",
      "execution_count": 12,
      "metadata": {
        "id": "4sMVdBYIwmy9"
      },
      "outputs": [],
      "source": [
        "GOOGLE_API_KEY=userdata.get(\"GOOGLE_API_KEY\")\n",
        "genai.configure(api_key=GOOGLE_API_KEY)"
      ]
    },
    {
      "cell_type": "code",
      "execution_count": 13,
      "metadata": {
        "id": "xE-_0Hpsw4l2"
      },
      "outputs": [],
      "source": [
        "audio_file = genai.upload_file(path=\"sam.mp3\")"
      ]
    },
    {
      "cell_type": "code",
      "execution_count": 14,
      "metadata": {
        "colab": {
          "base_uri": "https://localhost:8080/",
          "height": 311
        },
        "id": "xgigqM-XxQPH",
        "outputId": "ac55acf7-36d9-4c00-dcec-47fbeaa4c2df"
      },
      "outputs": [
        {
          "name": "stdout",
          "output_type": "stream",
          "text": [
            "## Audio Summary: Skills for the Future and the Importance of Coding\n",
            "\n",
            "The audio discusses the important skills for kids to learn in today's world, with a focus on coding. \n",
            "\n",
            "**Key Points:**\n",
            "\n",
            "* **Essential Skills:** The speaker emphasizes the need for children to develop resilience, adaptability, a strong learning capacity, and creativity. Familiarity with technology and tools is also considered crucial.\n",
            "* **Coding:** While some argue that coding is becoming less relevant, the speaker believes it remains an important skill. Learning to code fosters critical thinking abilities, even if the specific coding languages evolve over time.\n",
            "* **Coding's Future:** The speaker acknowledges that coding will change and adapt but maintains its importance as a foundational skill for the future.\n",
            "\n",
            "**Additional Notes:**\n",
            "\n",
            "* The speaker has a personal bias towards coding due to their background.\n",
            "* The conversation implies the existence of new tools that might influence the way coding is done in the future. \n",
            "\n"
          ]
        }
      ],
      "source": [
        "model = genai.GenerativeModel(\"models/gemini-1.5-pro-latest\")\n",
        "\n",
        "response = model.generate_content(\n",
        "    [\n",
        "        \"Please summarize the following audio.\",\n",
        "        audio_file\n",
        "    ]\n",
        ")\n",
        "print(response.text)"
      ]
    },
    {
      "cell_type": "code",
      "execution_count": null,
      "metadata": {
        "id": "q2wTRRM0x_KJ"
      },
      "outputs": [],
      "source": []
    }
  ],
  "metadata": {
    "colab": {
      "provenance": []
    },
    "kernelspec": {
      "display_name": "Python 3",
      "name": "python3"
    },
    "language_info": {
      "name": "python"
    }
  },
  "nbformat": 4,
  "nbformat_minor": 0
}
